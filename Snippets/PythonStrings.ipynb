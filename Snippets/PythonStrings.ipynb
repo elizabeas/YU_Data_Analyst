{
 "cells": [
  {
   "cell_type": "markdown",
   "id": "1a30a141-efbc-4d83-86c7-0f62c1e6b4e1",
   "metadata": {},
   "source": [
    "# Practice:"
   ]
  },
  {
   "cell_type": "markdown",
   "id": "c7df558a-1a26-430f-9759-b0c6ad0889aa",
   "metadata": {},
   "source": [
    "## Using Strings in Python\n",
    "\n",
    "Complete the following prompts to test your knowledge of how to use strings in Python."
   ]
  },
  {
   "cell_type": "code",
   "execution_count": null,
   "id": "d43866cd-d69c-43be-ab11-16765b8e1772",
   "metadata": {},
   "outputs": [],
   "source": [
    "# Print three examples of strings -- one using only letters, one using only numbers, and one using a combination of alphanumeric characters:\n",
    "\n",
    "\n"
   ]
  },
  {
   "cell_type": "code",
   "execution_count": null,
   "id": "922d5738-4e35-426f-8606-b04cb229d5ce",
   "metadata": {},
   "outputs": [],
   "source": [
    "# Create 3 variable names, and use each one to write the string Hello! using a different method. What are the three ways to denote a string in Python?\n",
    "# Bonus 1: How can you confirm that the value of each variable is identical?\n",
    "# Bonus 2: Why might you use one format or another?\n",
    "\n"
   ]
  },
  {
   "cell_type": "markdown",
   "id": "78da4ffc-a7e3-4251-977b-c436833ed0d4",
   "metadata": {},
   "source": [
    "<details><summary>Need a hint?</summary>\n",
    "\n",
    "Remember that you can use single `''`, double `\"\"`, or triple `''' '''` quotes to designate a string.\n",
    "\n",
    "To compare whether values are the same, use the comparison operator `==`\n",
    "</details>"
   ]
  },
  {
   "cell_type": "code",
   "execution_count": null,
   "id": "53911035-fa19-47b2-9b1f-677c65e85127",
   "metadata": {},
   "outputs": [],
   "source": [
    "# Create an input variable to ask whether it's morning, afternoon, or evening. Then print a message using string concatenation\n",
    "# that says, Good [morning/afternoon/evening]! Have a great day!\"\n",
    "\n",
    "time_of_day = input(\"Is it morning, afternoon, or evening? \")\n",
    "print(\"Good \" + time_of_day + \"! Have a great day!\")"
   ]
  },
  {
   "cell_type": "code",
   "execution_count": null,
   "id": "4e51049c-7289-4b02-921d-d5a9570b3cb2",
   "metadata": {},
   "outputs": [],
   "source": [
    "# Reusing the same variable, print the same message using an f-string.\n",
    "\n"
   ]
  },
  {
   "cell_type": "markdown",
   "id": "32b04860-7a76-49c0-b88f-5006a654a66b",
   "metadata": {},
   "source": [
    "<details><summary>Need a hint?</summary>\n",
    "\n",
    "Remember that an f-string (\"formatted string\") is a way writing a string in Python which can include variables, values of other datatypes, or expressions in curly braces inside the string.\n",
    "\n",
    "Example A: *f'This string is {3 + 1 + 2} words long'*\n",
    "\n",
    "Example B: *f\"This ain't my {ordinal_number_of_attendance} rodeo\"*\n",
    "</details>"
   ]
  },
  {
   "cell_type": "markdown",
   "id": "4e48a791-89ed-476a-adc9-bf275d5cca8c",
   "metadata": {},
   "source": [
    "## Slicing Strings"
   ]
  },
  {
   "cell_type": "code",
   "execution_count": 6,
   "id": "fa7f5eb2-d74e-496d-8113-6f3cc83d6bea",
   "metadata": {},
   "outputs": [
    {
     "data": {
      "text/plain": [
       "5"
      ]
     },
     "execution_count": 6,
     "metadata": {},
     "output_type": "execute_result"
    }
   ],
   "source": [
    "ex1 = 'beets'\n",
    "len(ex1)"
   ]
  },
  {
   "cell_type": "code",
   "execution_count": 7,
   "id": "0efae833-bfd3-4a3d-92a0-4371cd48d0d4",
   "metadata": {},
   "outputs": [
    {
     "data": {
      "text/plain": [
       "'eet'"
      ]
     },
     "execution_count": 7,
     "metadata": {},
     "output_type": "execute_result"
    }
   ],
   "source": [
    "ex1[1:4]"
   ]
  },
  {
   "cell_type": "code",
   "execution_count": null,
   "id": "a3e375af-f851-409a-b384-e5a214ce306e",
   "metadata": {},
   "outputs": [],
   "source": []
  }
 ],
 "metadata": {
  "kernelspec": {
   "display_name": "Python 3 (ipykernel)",
   "language": "python",
   "name": "python3"
  },
  "language_info": {
   "codemirror_mode": {
    "name": "ipython",
    "version": 3
   },
   "file_extension": ".py",
   "mimetype": "text/x-python",
   "name": "python",
   "nbconvert_exporter": "python",
   "pygments_lexer": "ipython3",
   "version": "3.12.3"
  }
 },
 "nbformat": 4,
 "nbformat_minor": 5
}
